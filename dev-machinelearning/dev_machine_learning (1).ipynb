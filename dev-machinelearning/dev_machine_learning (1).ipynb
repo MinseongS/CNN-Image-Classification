{
  "nbformat": 4,
  "nbformat_minor": 0,
  "metadata": {
    "colab": {
      "name": "dev_machine_learning.ipynb",
      "provenance": [],
      "collapsed_sections": []
    },
    "kernelspec": {
      "name": "python3",
      "display_name": "Python 3"
    },
    "language_info": {
      "name": "python"
    },
    "accelerator": "GPU"
  },
  "cells": [
    {
      "cell_type": "code",
      "metadata": {
        "id": "iLzDh5WW0ia5"
      },
      "source": [
        "from tensorflow.keras.datasets import cifar10\n",
        "from tensorflow.keras.models import Sequential, Model\n",
        "from tensorflow.keras.layers import Dense, Dropout, BatchNormalization, Input, Flatten, Conv2D, MaxPooling2D, Activation\n",
        "from tensorflow.keras.optimizers import Adam\n",
        "from tensorflow.keras.models import load_model\n",
        "import matplotlib.pyplot as plt\n",
        "from tensorflow.keras.preprocessing.image import ImageDataGenerator\n",
        "from tensorflow.keras.utils import to_categorical\n",
        "from sklearn.utils import shuffle\n",
        "from sklearn.model_selection import train_test_split\n",
        "import numpy as np\n",
        "import cv2\n",
        "from PIL import Image\n",
        "import tensorflow as tf\n",
        "import os\n",
        "from tensorflow.keras.applications import ResNet50\n",
        "from tensorflow.keras.callbacks import ModelCheckpoint,ReduceLROnPlateau"
      ],
      "execution_count": 1,
      "outputs": []
    },
    {
      "cell_type": "code",
      "metadata": {
        "id": "T3biw0dt5zua"
      },
      "source": [
        "# def train_val_spliter(dirname, foldername, classes, rate=0.8):\n",
        "#   count = 0\n",
        "#   datapath = os.getcwd()\n",
        "#   i = 0\n",
        "#   for (path, dic, files) in os.walk(dirname):\n",
        "#     if path.split('\\\\')[-1] == classes:\n",
        "#       number = len(files)\n",
        "#       for filename in files:\n",
        "#         ext = os.path.splitext(filename)[-1]\n",
        "#         if ext == '.jpg':\n",
        "#           if count < number * rate:\n",
        "#             image = cv2.imread(dirname +'/'+classes+'/'+filename)\n",
        "#             cv2.imwrite(datapath + '/' + foldername + '/' + 'train' + '/' + classes + '/' + filename, image)\n",
        "#           else:\n",
        "#             image = cv2.imread(dirname + '/' +classes+'/' +filename)\n",
        "#             cv2.imwrite(datapath + '/' + foldername + '/' + 'valid' + '/' + classes + '/' + filename, image)\n",
        "#         count += 1\n",
        "# def makedirs(dirname, classes):\n",
        "#   path = os.getcwd()\n",
        "#   if not os.path.isdir(path +'/' + dirname):\n",
        "#     os.makedirs(path + '/' + dirname)\n",
        "#   if not os.path.isdir(path +'/' + dirname + '/' + 'train'):\n",
        "#     os.makedirs(path + '/' + dirname + '/' + 'train')\n",
        "#   if not os.path.isdir(path +'/' + dirname + '/' + 'valid'):\n",
        "#     os.makedirs(path + '/' + dirname + '/' + 'valid')\n",
        "#   if not os.path.isdir(path +'/' + dirname + '/' + 'train' + '/' + classes):\n",
        "#     os.makedirs(path +'/' + dirname + '/' + 'train' + '/' + classes)\n",
        "#   if not os.path.isdir(path +'/' + dirname + '/' + 'valid' + '/' + classes):\n",
        "#     os.makedirs(path + '/' + dirname + '/' + 'valid' + '/' + classes)"
      ],
      "execution_count": 2,
      "outputs": []
    },
    {
      "cell_type": "code",
      "metadata": {
        "id": "ipiKBqgO53OL"
      },
      "source": [
        "# makedirs('dev_image', 'dog')\n",
        "# makedirs('dev_image', 'elephant')\n",
        "# makedirs('dev_image', 'giraffe')\n",
        "# makedirs('dev_image', 'guitar')\n",
        "# makedirs('dev_image', 'horse')\n",
        "# makedirs('dev_image', 'house')\n",
        "# makedirs('dev_image', 'person')\n",
        "\n",
        "# path = 'C:\\\\Users\\\\subak\\\\PycharmProjects\\\\project20210517\\\\dev_machinelearning\\\\train'\n",
        "# train_val_spliter(path, 'dev_image', 'dog')\n",
        "# train_val_spliter(path, 'dev_image', 'elephant')\n",
        "# train_val_spliter(path, 'dev_image', 'giraffe')\n",
        "# train_val_spliter(path, 'dev_image', 'guitar')\n",
        "# train_val_spliter(path, 'dev_image', 'horse')\n",
        "# train_val_spliter(path, 'dev_image', 'house')\n",
        "# train_val_spliter(path, 'dev_image', 'person')"
      ],
      "execution_count": 3,
      "outputs": []
    },
    {
      "cell_type": "code",
      "metadata": {
        "id": "6lBe8aGh1xL6"
      },
      "source": [
        "def plot_loss(history):\n",
        "    plt.plot(history.history['loss'])\n",
        "    plt.plot(history.history['val_loss'])\n",
        "    plt.title('Model Loss')\n",
        "    plt.ylabel('Loss')\n",
        "    plt.xlabel('Epochs')\n",
        "    plt.legend(['Train', 'val'], loc=0)\n",
        "\n",
        "def plot_acc(history):\n",
        "    plt.plot(history.history['accuracy'])\n",
        "    plt.plot(history.history['val_accuracy'])\n",
        "    plt.title('Model accuracy')\n",
        "    plt.ylabel('Accuracy')\n",
        "    plt.xlabel('Epochs')\n",
        "    plt.legend(['Train', 'val'], loc=0)"
      ],
      "execution_count": 4,
      "outputs": []
    },
    {
      "cell_type": "code",
      "metadata": {
        "id": "_GFAOus_2Ng0"
      },
      "source": [
        "# from tensorflow.keras import Sequential\n",
        "# from tensorflow.keras.layers import Conv2D, MaxPooling2D, Flatten, Dense, Dropout, BatchNormalization, Activation, Input, Conv3D, Add, LeakyReLU,AveragePooling2D\n",
        "# from tensorflow.keras.models import Model\n",
        "# from tensorflow.keras.optimizers import SGD\n",
        "# import matplotlib.pyplot as plt\n",
        "# from tensorflow.keras.regularizers import l2\n",
        "\n",
        "\n",
        "# def residual_block(x, filters_in, filters_out, k_size):\n",
        "#     shortcut = x\n",
        "#     x = Conv2D(filters_in, kernel_size=(1, 1), strides=(1, 1), padding=\"same\")(x)\n",
        "#     x = BatchNormalization()(x)\n",
        "#     x = LeakyReLU()(x)\n",
        "\n",
        "#     x = Conv2D(filters_in, kernel_size=(k_size, k_size), strides=(1, 1), padding=\"same\")(x)\n",
        "#     x = BatchNormalization()(x)\n",
        "#     x = LeakyReLU()(x)\n",
        "\n",
        "#     x = Conv2D(filters_out, kernel_size=(1, 1), strides=(1, 1), padding=\"same\")(x)\n",
        "#     x = BatchNormalization()(x)\n",
        "\n",
        "#     shortcut_channel = shortcut.shape.as_list()[-1]\n",
        "\n",
        "#     if shortcut_channel != filters_out:\n",
        "#         shortcut = Conv2D(filters_out, kernel_size=(1, 1), strides=(1, 1), padding=\"same\")(shortcut)\n",
        "\n",
        "#     x = Add()([x, shortcut])\n",
        "#     return LeakyReLU()(x)\n",
        "\n",
        "# def define_model(image_height, image_width, image_channel, classes):\n",
        "#     input_tensor = Input(shape=(image_height, image_width, image_channel))\n",
        "#     x = Conv2D(64, kernel_size=(7, 7), strides=2, padding='same',\n",
        "#                kernel_initializer='he_normal')(input_tensor)\n",
        "#     x = BatchNormalization()(x)\n",
        "#     x = Activation('relu')(x)\n",
        "#     x = MaxPooling2D(pool_size=(3, 3), strides=2, padding='same')(x)\n",
        "#     x = residual_block(x, 64, 256, 3)\n",
        "#     x = MaxPooling2D(pool_size=(2, 2))(x)\n",
        "#     x = residual_block(x, 128, 512, 3)\n",
        "#     x = AveragePooling2D(pool_size=(2,2))(x)\n",
        "#     x = Flatten()(x)\n",
        "#     x = Dropout(0.5)(x)\n",
        "#     output_tensor = Dense(classes, activation='softmax')(x)\n",
        "#     model = Model(inputs=input_tensor, outputs=output_tensor)\n",
        "#     model.compile(loss='categorical_crossentropy', optimizer='adam', metrics=['accuracy'])\n",
        "#     return model"
      ],
      "execution_count": 5,
      "outputs": []
    },
    {
      "cell_type": "code",
      "metadata": {
        "id": "ziHz_l-4QkGe"
      },
      "source": [
        "# def define_model(image_height, image_width, image_channel, classes):\n",
        "#   input = Input(shape=(image_height, image_width, image_channel))\n",
        "#   model = ResNet50(input_tensor=input, include_top=False, weights='imagenet', pooling='max')\n",
        " \n",
        "#   x = model.output\n",
        "#   x = Dense(1024)(x)\n",
        "#   x = BatchNormalization()(x)\n",
        "#   x = Activation('relu')(x)\n",
        "#   x = Dense(512)(x)\n",
        "#   x = BatchNormalization()(x)\n",
        "#   x = Activation('relu')(x)\n",
        "#   x = Dropout(0.5)(x)\n",
        "#   x = Dense(classes, activation='softmax')(x)\n",
        "#   model = Model(model.input, x)\n",
        "#   model.compile(loss='categorical_crossentropy', optimizer='adam', metrics=['accuracy'])\n",
        "#   return model"
      ],
      "execution_count": 6,
      "outputs": []
    },
    {
      "cell_type": "code",
      "metadata": {
        "id": "hRYtGqMmeFs0"
      },
      "source": [
        "def define_model(image_height, image_width, image_channel, classes):\n",
        "  input = Input(shape=(image_height, image_width, image_channel))\n",
        "  model = ResNet50(input_tensor=input, include_top=False, weights='imagenet', pooling='max')\n",
        "  additional_model = Sequential()\n",
        "  additional_model.add(model)\n",
        "  additional_model.add(Flatten())\n",
        "  additional_model.add(Dense(2048, activation='relu'))\n",
        "  additional_model.add(Dense(1024, activation='relu'))\n",
        "  additional_model.add(Dropout(0.5))\n",
        "  additional_model.add(Dense(7, activation='softmax'))\n",
        "  additional_model.compile(loss='categorical_crossentropy', optimizer='adam', metrics=['accuracy'])\n",
        "  return additional_model"
      ],
      "execution_count": 7,
      "outputs": []
    },
    {
      "cell_type": "code",
      "metadata": {
        "colab": {
          "base_uri": "https://localhost:8080/"
        },
        "id": "Mw9eH69O2cl-",
        "outputId": "a6d2a602-3db8-4bf4-bda7-960be3d3cb7a"
      },
      "source": [
        "model = define_model(227, 227, 3, 7)\n",
        "model.summary()"
      ],
      "execution_count": 8,
      "outputs": [
        {
          "output_type": "stream",
          "text": [
            "Model: \"sequential\"\n",
            "_________________________________________________________________\n",
            "Layer (type)                 Output Shape              Param #   \n",
            "=================================================================\n",
            "resnet50 (Functional)        (None, 2048)              23587712  \n",
            "_________________________________________________________________\n",
            "flatten (Flatten)            (None, 2048)              0         \n",
            "_________________________________________________________________\n",
            "dense (Dense)                (None, 2048)              4196352   \n",
            "_________________________________________________________________\n",
            "dense_1 (Dense)              (None, 1024)              2098176   \n",
            "_________________________________________________________________\n",
            "dropout (Dropout)            (None, 1024)              0         \n",
            "_________________________________________________________________\n",
            "dense_2 (Dense)              (None, 7)                 7175      \n",
            "=================================================================\n",
            "Total params: 29,889,415\n",
            "Trainable params: 29,836,295\n",
            "Non-trainable params: 53,120\n",
            "_________________________________________________________________\n"
          ],
          "name": "stdout"
        }
      ]
    },
    {
      "cell_type": "code",
      "metadata": {
        "colab": {
          "base_uri": "https://localhost:8080/"
        },
        "id": "cDJeHAGA2lEn",
        "outputId": "aa510117-46ee-40cf-84e2-2b8d327265a6"
      },
      "source": [
        "from keras.preprocessing.image import ImageDataGenerator\n",
        "\n",
        "train_datagen = ImageDataGenerator(rescale=1.0 / 255.0,\n",
        "                                   shear_range=20,featurewise_std_normalization=True, rotation_range = 90, vertical_flip=True, brightness_range=[0.2, 1.0], zoom_range=[0.5, 1.5])\n",
        "test_datagen = ImageDataGenerator(rescale=1.0 / 255.0)\n",
        "\n",
        "train_it = train_datagen.flow_from_directory('/content/drive/MyDrive/dev_machinelearning/train',\n",
        "                                       class_mode='categorical', batch_size=32, target_size=(227, 227))"
      ],
      "execution_count": 9,
      "outputs": [
        {
          "output_type": "stream",
          "text": [
            "Found 1652 images belonging to 7 classes.\n"
          ],
          "name": "stdout"
        },
        {
          "output_type": "stream",
          "text": [
            "/usr/local/lib/python3.7/dist-packages/keras_preprocessing/image/image_data_generator.py:349: UserWarning: This ImageDataGenerator specifies `featurewise_std_normalization`, which overrides setting of `featurewise_center`.\n",
            "  warnings.warn('This ImageDataGenerator specifies '\n"
          ],
          "name": "stderr"
        }
      ]
    },
    {
      "cell_type": "code",
      "metadata": {
        "id": "1obNWDXxNtyU"
      },
      "source": [
        "# from tensorflow.keras.models import load_model\n",
        "# model = load_model('3-1.34.h5')"
      ],
      "execution_count": 10,
      "outputs": []
    },
    {
      "cell_type": "code",
      "metadata": {
        "id": "MB5EoFG8lOkj"
      },
      "source": [
        "# model_checkpoint = ModelCheckpoint(filepath='./{epoch}-{val_loss:.2f}.h5', monitor='val_loss', save_best_only=True, verbose=1)\n",
        "# reduceLR = ReduceLROnPlateau(\n",
        "#     monitor='val_loss',  # 검증 손실을 기준으로 callback이 호출됩니다\n",
        "#     factor=0.5,          # callback 호출시 학습률을 1/2로 줄입니다\n",
        "#     patience=10         # epoch 10 동안 개선되지 않으면 callback이 호출됩니다\n",
        "# )"
      ],
      "execution_count": 11,
      "outputs": []
    },
    {
      "cell_type": "code",
      "metadata": {
        "colab": {
          "base_uri": "https://localhost:8080/"
        },
        "id": "2CfAXZgG3Ftu",
        "outputId": "0291d3a8-e8e6-4ba7-ef4c-5b7699eae98a"
      },
      "source": [
        "history = model.fit_generator(train_it, steps_per_epoch=len(train_it),\n",
        "                              validation_data=val_it, validation_steps=len(val_it), epochs=100, verbose=1, callbacks=[model_checkpoint,reduceLR])"
      ],
      "execution_count": null,
      "outputs": [
        {
          "output_type": "stream",
          "text": [
            "/usr/local/lib/python3.7/dist-packages/tensorflow/python/keras/engine/training.py:1940: UserWarning: `Model.fit_generator` is deprecated and will be removed in a future version. Please use `Model.fit`, which supports generators.\n",
            "  warnings.warn('`Model.fit_generator` is deprecated and '\n",
            "/usr/local/lib/python3.7/dist-packages/keras_preprocessing/image/image_data_generator.py:720: UserWarning: This ImageDataGenerator specifies `featurewise_center`, but it hasn't been fit on any training data. Fit it first by calling `.fit(numpy_data)`.\n",
            "  warnings.warn('This ImageDataGenerator specifies '\n",
            "/usr/local/lib/python3.7/dist-packages/keras_preprocessing/image/image_data_generator.py:728: UserWarning: This ImageDataGenerator specifies `featurewise_std_normalization`, but it hasn't been fit on any training data. Fit it first by calling `.fit(numpy_data)`.\n",
            "  warnings.warn('This ImageDataGenerator specifies '\n"
          ],
          "name": "stderr"
        },
        {
          "output_type": "stream",
          "text": [
            "Epoch 1/100\n",
            "52/52 [==============================] - 231s 4s/step - loss: 7.4097 - accuracy: 0.2034\n",
            "Epoch 2/100\n",
            "52/52 [==============================] - 27s 514ms/step - loss: 1.9463 - accuracy: 0.2258\n",
            "Epoch 3/100\n",
            "52/52 [==============================] - 27s 515ms/step - loss: 1.8779 - accuracy: 0.2476\n",
            "Epoch 4/100\n",
            "52/52 [==============================] - 27s 515ms/step - loss: 1.8587 - accuracy: 0.2597\n",
            "Epoch 5/100\n",
            "52/52 [==============================] - 27s 521ms/step - loss: 1.7758 - accuracy: 0.3172\n",
            "Epoch 6/100\n",
            "36/52 [===================>..........] - ETA: 8s - loss: 1.7746 - accuracy: 0.3211"
          ],
          "name": "stdout"
        }
      ]
    },
    {
      "cell_type": "code",
      "metadata": {
        "id": "Vu_f48w8_LXC",
        "colab": {
          "base_uri": "https://localhost:8080/"
        },
        "outputId": "06f6e6af-3ed8-4916-9843-fdbb93bbf96b"
      },
      "source": [
        "model.save('dev_machine_resnet_model.h5')"
      ],
      "execution_count": null,
      "outputs": [
        {
          "output_type": "stream",
          "text": [
            "/usr/local/lib/python3.7/dist-packages/tensorflow/python/keras/utils/generic_utils.py:497: CustomMaskWarning: Custom mask layers require a config and must override get_config. When loading, the custom mask layer must be passed to the custom_objects argument.\n",
            "  category=CustomMaskWarning)\n"
          ],
          "name": "stderr"
        }
      ]
    },
    {
      "cell_type": "code",
      "metadata": {
        "id": "6dMZkJ_j-IdS"
      },
      "source": [
        "from tensorflow.keras.preprocessing.image import load_img\n",
        "from tensorflow.keras.preprocessing.image import img_to_array\n",
        "from tensorflow.keras.models import load_model\n",
        "import matplotlib.pyplot as plt\n",
        "import numpy as np\n",
        "from tensorflow.keras.preprocessing.image import ImageDataGenerator\n",
        "import os\n",
        "\n",
        "def search(dirname):\n",
        "    img_list = []\n",
        "    for (path, dir, files) in os.walk(dirname):\n",
        "        for filename in files:\n",
        "            ext = os.path.splitext(filename)[-1]\n",
        "            if ext == '.jpg':\n",
        "                img_list.append(path+'/'+filename)\n",
        "    return img_list\n",
        "\n",
        "# load and prepare the image\n",
        "def load_image(filename):\n",
        "    # load the image\n",
        "    img = load_img(filename, target_size=(227, 227))\n",
        "    # convert to array\n",
        "    img = img_to_array(img)\n",
        "    # reshape into a single sample with 3 channels\n",
        "    img = np.expand_dims(img, axis=0)\n",
        "    # img scaling\n",
        "    img /= 255\n",
        "\n",
        "    return img"
      ],
      "execution_count": null,
      "outputs": []
    },
    {
      "cell_type": "code",
      "metadata": {
        "id": "pi_RtI_3R00w"
      },
      "source": [
        "img_list_1 = search('/content/drive/MyDrive/dev_machinelearning/test/0')\n",
        "\n",
        "model = load_model('./dev_machine_model.h5')\n",
        "\n"
      ],
      "execution_count": null,
      "outputs": []
    },
    {
      "cell_type": "code",
      "metadata": {
        "id": "98DnrcafSCjT"
      },
      "source": [
        "import csv\n",
        "\n",
        "with open('/content/drive/MyDrive/test_answer_sample_.csv', 'w') as csvfile:\n",
        "    cwriter = csv.writer(csvfile)\n",
        "\n",
        "    for i in range(len(img_list_1)+1):\n",
        "      if i == 0:\n",
        "        cwriter.writerow([' ','answer value'])\n",
        "      else:\n",
        "        img = load_image(img_list_1[i-1])\n",
        "        result = model.predict(img)\n",
        "        preds_value = np.argmax(result, axis=-1)[0]\n",
        "        cwriter.writerow([i-1, preds_value])\n",
        "\n"
      ],
      "execution_count": null,
      "outputs": []
    },
    {
      "cell_type": "code",
      "metadata": {
        "id": "bS5DClE7dYQQ"
      },
      "source": [
        ""
      ],
      "execution_count": null,
      "outputs": []
    }
  ]
}